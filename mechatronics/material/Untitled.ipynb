{
 "cells": [
  {
   "cell_type": "markdown",
   "id": "ecef5fa0-cda0-4296-b29c-cf76aafae2d7",
   "metadata": {},
   "source": [
    "# Basic Board Controlling"
   ]
  },
  {
   "cell_type": "code",
   "execution_count": 3,
   "id": "914e96b7-1d39-4a45-a670-7ebd250a16fc",
   "metadata": {},
   "outputs": [
    {
     "name": "stderr",
     "output_type": "stream",
     "text": [
      "No connection to CiruitPython VM: found no board"
     ]
    }
   ],
   "source": [
    "import board"
   ]
  },
  {
   "cell_type": "code",
   "execution_count": null,
   "id": "df61649e-e015-4e91-848c-05a554b98944",
   "metadata": {},
   "outputs": [],
   "source": []
  }
 ],
 "metadata": {
  "kernelspec": {
   "display_name": "CircuitPython",
   "language": "python",
   "name": "circuitpython"
  },
  "language_info": {
   "codemirror_mode": {
    "name": "python",
    "version": 3
   },
   "file_extension": ".py",
   "mimetype": "text/x-python",
   "name": "python",
   "pygments_lexer": "python3",
   "version": "3"
  }
 },
 "nbformat": 4,
 "nbformat_minor": 5
}
